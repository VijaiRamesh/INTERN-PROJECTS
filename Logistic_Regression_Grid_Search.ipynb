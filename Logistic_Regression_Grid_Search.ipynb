{
 "cells": [
  {
   "cell_type": "code",
   "execution_count": 1,
   "id": "10809a42",
   "metadata": {},
   "outputs": [],
   "source": [
    "import numpy as np\n",
    "import pandas as pd"
   ]
  },
  {
   "cell_type": "code",
   "execution_count": 2,
   "id": "008607ca",
   "metadata": {},
   "outputs": [],
   "source": [
    "df = pd.read_csv(\"resumes_development.csv\")"
   ]
  },
  {
   "cell_type": "code",
   "execution_count": 3,
   "id": "1e1ca8b1",
   "metadata": {},
   "outputs": [],
   "source": [
    "df=df[['Decision Making', 'Digital Marketing', 'Editing','Logistics Management', 'Oracle Database', 'Soccer', 'Veteran','Female','Interview']]"
   ]
  },
  {
   "cell_type": "code",
   "execution_count": null,
   "id": "7f68c010",
   "metadata": {},
   "outputs": [],
   "source": []
  },
  {
   "cell_type": "code",
   "execution_count": 4,
   "id": "606b8e13",
   "metadata": {},
   "outputs": [
    {
     "data": {
      "text/plain": [
       "Interview\n",
       "0.0    400\n",
       "1.0    219\n",
       "dtype: int64"
      ]
     },
     "execution_count": 4,
     "metadata": {},
     "output_type": "execute_result"
    }
   ],
   "source": [
    "df.groupby([\"Interview\"]).size()"
   ]
  },
  {
   "cell_type": "code",
   "execution_count": 5,
   "id": "369cd8de",
   "metadata": {},
   "outputs": [],
   "source": [
    "df_grouped_by = df.groupby(['Interview'])\n",
    "df_balanced = df_grouped_by.apply(lambda x: x.sample(df_grouped_by.size().min()).reset_index(drop=True))\n",
    "dataset = df_balanced.droplevel(['Interview'])"
   ]
  },
  {
   "cell_type": "code",
   "execution_count": 6,
   "id": "c3d6c9a0",
   "metadata": {},
   "outputs": [
    {
     "data": {
      "text/plain": [
       "Interview\n",
       "0.0    219\n",
       "1.0    219\n",
       "dtype: int64"
      ]
     },
     "execution_count": 6,
     "metadata": {},
     "output_type": "execute_result"
    }
   ],
   "source": [
    "dataset.groupby([\"Interview\"]).size()"
   ]
  },
  {
   "cell_type": "code",
   "execution_count": 7,
   "id": "d84ed148",
   "metadata": {},
   "outputs": [
    {
     "data": {
      "text/html": [
       "<div>\n",
       "<style scoped>\n",
       "    .dataframe tbody tr th:only-of-type {\n",
       "        vertical-align: middle;\n",
       "    }\n",
       "\n",
       "    .dataframe tbody tr th {\n",
       "        vertical-align: top;\n",
       "    }\n",
       "\n",
       "    .dataframe thead th {\n",
       "        text-align: right;\n",
       "    }\n",
       "</style>\n",
       "<table border=\"1\" class=\"dataframe\">\n",
       "  <thead>\n",
       "    <tr style=\"text-align: right;\">\n",
       "      <th></th>\n",
       "      <th>Decision Making</th>\n",
       "      <th>Digital Marketing</th>\n",
       "      <th>Editing</th>\n",
       "      <th>Logistics Management</th>\n",
       "      <th>Oracle Database</th>\n",
       "      <th>Soccer</th>\n",
       "      <th>Veteran</th>\n",
       "      <th>Female</th>\n",
       "      <th>Interview</th>\n",
       "    </tr>\n",
       "  </thead>\n",
       "  <tbody>\n",
       "    <tr>\n",
       "      <th>0</th>\n",
       "      <td>0.0</td>\n",
       "      <td>0.0</td>\n",
       "      <td>0.0</td>\n",
       "      <td>0.0</td>\n",
       "      <td>0.0</td>\n",
       "      <td>0.0</td>\n",
       "      <td>1</td>\n",
       "      <td>1</td>\n",
       "      <td>0.0</td>\n",
       "    </tr>\n",
       "    <tr>\n",
       "      <th>1</th>\n",
       "      <td>0.0</td>\n",
       "      <td>0.0</td>\n",
       "      <td>0.0</td>\n",
       "      <td>0.0</td>\n",
       "      <td>0.0</td>\n",
       "      <td>0.0</td>\n",
       "      <td>0</td>\n",
       "      <td>1</td>\n",
       "      <td>0.0</td>\n",
       "    </tr>\n",
       "    <tr>\n",
       "      <th>2</th>\n",
       "      <td>0.0</td>\n",
       "      <td>0.0</td>\n",
       "      <td>0.0</td>\n",
       "      <td>0.0</td>\n",
       "      <td>0.0</td>\n",
       "      <td>0.0</td>\n",
       "      <td>0</td>\n",
       "      <td>0</td>\n",
       "      <td>0.0</td>\n",
       "    </tr>\n",
       "    <tr>\n",
       "      <th>3</th>\n",
       "      <td>0.0</td>\n",
       "      <td>0.0</td>\n",
       "      <td>1.0</td>\n",
       "      <td>0.0</td>\n",
       "      <td>0.0</td>\n",
       "      <td>0.0</td>\n",
       "      <td>0</td>\n",
       "      <td>1</td>\n",
       "      <td>0.0</td>\n",
       "    </tr>\n",
       "    <tr>\n",
       "      <th>4</th>\n",
       "      <td>0.0</td>\n",
       "      <td>0.0</td>\n",
       "      <td>0.0</td>\n",
       "      <td>0.0</td>\n",
       "      <td>0.0</td>\n",
       "      <td>0.0</td>\n",
       "      <td>0</td>\n",
       "      <td>0</td>\n",
       "      <td>0.0</td>\n",
       "    </tr>\n",
       "    <tr>\n",
       "      <th>...</th>\n",
       "      <td>...</td>\n",
       "      <td>...</td>\n",
       "      <td>...</td>\n",
       "      <td>...</td>\n",
       "      <td>...</td>\n",
       "      <td>...</td>\n",
       "      <td>...</td>\n",
       "      <td>...</td>\n",
       "      <td>...</td>\n",
       "    </tr>\n",
       "    <tr>\n",
       "      <th>214</th>\n",
       "      <td>0.0</td>\n",
       "      <td>0.0</td>\n",
       "      <td>0.0</td>\n",
       "      <td>0.0</td>\n",
       "      <td>1.0</td>\n",
       "      <td>0.0</td>\n",
       "      <td>1</td>\n",
       "      <td>1</td>\n",
       "      <td>1.0</td>\n",
       "    </tr>\n",
       "    <tr>\n",
       "      <th>215</th>\n",
       "      <td>1.0</td>\n",
       "      <td>0.0</td>\n",
       "      <td>0.0</td>\n",
       "      <td>1.0</td>\n",
       "      <td>1.0</td>\n",
       "      <td>0.0</td>\n",
       "      <td>0</td>\n",
       "      <td>0</td>\n",
       "      <td>1.0</td>\n",
       "    </tr>\n",
       "    <tr>\n",
       "      <th>216</th>\n",
       "      <td>0.0</td>\n",
       "      <td>0.0</td>\n",
       "      <td>0.0</td>\n",
       "      <td>1.0</td>\n",
       "      <td>0.0</td>\n",
       "      <td>0.0</td>\n",
       "      <td>1</td>\n",
       "      <td>1</td>\n",
       "      <td>1.0</td>\n",
       "    </tr>\n",
       "    <tr>\n",
       "      <th>217</th>\n",
       "      <td>1.0</td>\n",
       "      <td>0.0</td>\n",
       "      <td>0.0</td>\n",
       "      <td>0.0</td>\n",
       "      <td>0.0</td>\n",
       "      <td>0.0</td>\n",
       "      <td>1</td>\n",
       "      <td>1</td>\n",
       "      <td>1.0</td>\n",
       "    </tr>\n",
       "    <tr>\n",
       "      <th>218</th>\n",
       "      <td>0.0</td>\n",
       "      <td>0.0</td>\n",
       "      <td>0.0</td>\n",
       "      <td>0.0</td>\n",
       "      <td>0.0</td>\n",
       "      <td>0.0</td>\n",
       "      <td>1</td>\n",
       "      <td>1</td>\n",
       "      <td>1.0</td>\n",
       "    </tr>\n",
       "  </tbody>\n",
       "</table>\n",
       "<p>438 rows × 9 columns</p>\n",
       "</div>"
      ],
      "text/plain": [
       "     Decision Making  Digital Marketing  Editing  Logistics Management  \\\n",
       "0                0.0                0.0      0.0                   0.0   \n",
       "1                0.0                0.0      0.0                   0.0   \n",
       "2                0.0                0.0      0.0                   0.0   \n",
       "3                0.0                0.0      1.0                   0.0   \n",
       "4                0.0                0.0      0.0                   0.0   \n",
       "..               ...                ...      ...                   ...   \n",
       "214              0.0                0.0      0.0                   0.0   \n",
       "215              1.0                0.0      0.0                   1.0   \n",
       "216              0.0                0.0      0.0                   1.0   \n",
       "217              1.0                0.0      0.0                   0.0   \n",
       "218              0.0                0.0      0.0                   0.0   \n",
       "\n",
       "     Oracle Database  Soccer  Veteran  Female  Interview  \n",
       "0                0.0     0.0        1       1        0.0  \n",
       "1                0.0     0.0        0       1        0.0  \n",
       "2                0.0     0.0        0       0        0.0  \n",
       "3                0.0     0.0        0       1        0.0  \n",
       "4                0.0     0.0        0       0        0.0  \n",
       "..               ...     ...      ...     ...        ...  \n",
       "214              1.0     0.0        1       1        1.0  \n",
       "215              1.0     0.0        0       0        1.0  \n",
       "216              0.0     0.0        1       1        1.0  \n",
       "217              0.0     0.0        1       1        1.0  \n",
       "218              0.0     0.0        1       1        1.0  \n",
       "\n",
       "[438 rows x 9 columns]"
      ]
     },
     "execution_count": 7,
     "metadata": {},
     "output_type": "execute_result"
    }
   ],
   "source": [
    "dataset"
   ]
  },
  {
   "cell_type": "code",
   "execution_count": 8,
   "id": "d9819cc2",
   "metadata": {},
   "outputs": [],
   "source": [
    "indep=dataset[['Decision Making', 'Digital Marketing', 'Editing','Logistics Management', 'Oracle Database', 'Soccer', 'Veteran','Female']]\n",
    "dep=dataset['Interview']"
   ]
  },
  {
   "cell_type": "code",
   "execution_count": 9,
   "id": "a687bd63",
   "metadata": {},
   "outputs": [],
   "source": [
    "from sklearn.model_selection import train_test_split\n",
    "X_train, X_test, y_train, y_test = train_test_split(indep, dep, test_size = 1/3, random_state = 0)"
   ]
  },
  {
   "cell_type": "code",
   "execution_count": 10,
   "id": "681d3d33",
   "metadata": {},
   "outputs": [],
   "source": [
    "from sklearn.preprocessing import StandardScaler\n",
    "sc = StandardScaler()\n",
    "X_train = sc.fit_transform(X_train)\n",
    "X_test = sc.transform(X_test)"
   ]
  },
  {
   "cell_type": "markdown",
   "id": "265c9dcd",
   "metadata": {},
   "source": [
    "# LogisticRegression"
   ]
  },
  {
   "cell_type": "code",
   "execution_count": 11,
   "id": "cf4f71d9",
   "metadata": {},
   "outputs": [],
   "source": [
    "from sklearn.linear_model import LogisticRegression"
   ]
  },
  {
   "cell_type": "code",
   "execution_count": 12,
   "id": "be7f81d1",
   "metadata": {},
   "outputs": [
    {
     "name": "stdout",
     "output_type": "stream",
     "text": [
      "Fitting 5 folds for each of 4 candidates, totalling 20 fits\n"
     ]
    },
    {
     "data": {
      "text/plain": [
       "GridSearchCV(estimator=LogisticRegression(), n_jobs=-1,\n",
       "             param_grid={'penalty': ['l2'],\n",
       "                         'solver': ['newton-cg', 'lbfgs', 'liblinear', 'saga']},\n",
       "             scoring='f1_weighted', verbose=3)"
      ]
     },
     "execution_count": 12,
     "metadata": {},
     "output_type": "execute_result"
    }
   ],
   "source": [
    "from sklearn.model_selection import GridSearchCV\n",
    "param_grid = {'solver':['newton-cg', 'lbfgs', 'liblinear', 'saga'],\n",
    "             'penalty':['l2']} \n",
    "grid = GridSearchCV(LogisticRegression(), param_grid, refit = True, verbose = 3,n_jobs=-1,scoring='f1_weighted') \n",
    "grid.fit(X_train, y_train) "
   ]
  },
  {
   "cell_type": "code",
   "execution_count": 13,
   "id": "8d0b7d2e",
   "metadata": {},
   "outputs": [],
   "source": [
    "re=grid.cv_results_\n",
    "grid_predictions = grid.predict(X_test) \n",
    "from sklearn.metrics import confusion_matrix\n",
    "cm = confusion_matrix(y_test, grid_predictions) \n",
    "from sklearn.metrics import classification_report\n",
    "clf_report = classification_report(y_test, grid_predictions)"
   ]
  },
  {
   "cell_type": "code",
   "execution_count": 14,
   "id": "98dc041b",
   "metadata": {},
   "outputs": [
    {
     "name": "stdout",
     "output_type": "stream",
     "text": [
      "The f1_macro value for best parameter {'penalty': 'l2', 'solver': 'newton-cg'}: 0.910929596371251\n"
     ]
    }
   ],
   "source": [
    "from sklearn.metrics import f1_score\n",
    "f1_macro=f1_score(y_test,grid_predictions,average='weighted')\n",
    "print(\"The f1_macro value for best parameter {}:\".format(grid.best_params_),f1_macro)"
   ]
  },
  {
   "cell_type": "code",
   "execution_count": 15,
   "id": "305a162e",
   "metadata": {},
   "outputs": [
    {
     "name": "stdout",
     "output_type": "stream",
     "text": [
      "The confusion Matrix:\n",
      " [[63  7]\n",
      " [ 6 70]]\n"
     ]
    }
   ],
   "source": [
    "print(\"The confusion Matrix:\\n\",cm)"
   ]
  },
  {
   "cell_type": "code",
   "execution_count": 16,
   "id": "81ccc6c1",
   "metadata": {},
   "outputs": [
    {
     "name": "stdout",
     "output_type": "stream",
     "text": [
      "The report:\n",
      "               precision    recall  f1-score   support\n",
      "\n",
      "         0.0       0.91      0.90      0.91        70\n",
      "         1.0       0.91      0.92      0.92        76\n",
      "\n",
      "    accuracy                           0.91       146\n",
      "   macro avg       0.91      0.91      0.91       146\n",
      "weighted avg       0.91      0.91      0.91       146\n",
      "\n"
     ]
    }
   ],
   "source": [
    "print(\"The report:\\n\",clf_report)"
   ]
  },
  {
   "cell_type": "code",
   "execution_count": 17,
   "id": "5994b070",
   "metadata": {},
   "outputs": [],
   "source": [
    "table=pd.DataFrame.from_dict(re)"
   ]
  },
  {
   "cell_type": "code",
   "execution_count": 18,
   "id": "ec21058e",
   "metadata": {},
   "outputs": [
    {
     "data": {
      "text/html": [
       "<div>\n",
       "<style scoped>\n",
       "    .dataframe tbody tr th:only-of-type {\n",
       "        vertical-align: middle;\n",
       "    }\n",
       "\n",
       "    .dataframe tbody tr th {\n",
       "        vertical-align: top;\n",
       "    }\n",
       "\n",
       "    .dataframe thead th {\n",
       "        text-align: right;\n",
       "    }\n",
       "</style>\n",
       "<table border=\"1\" class=\"dataframe\">\n",
       "  <thead>\n",
       "    <tr style=\"text-align: right;\">\n",
       "      <th></th>\n",
       "      <th>mean_fit_time</th>\n",
       "      <th>std_fit_time</th>\n",
       "      <th>mean_score_time</th>\n",
       "      <th>std_score_time</th>\n",
       "      <th>param_penalty</th>\n",
       "      <th>param_solver</th>\n",
       "      <th>params</th>\n",
       "      <th>split0_test_score</th>\n",
       "      <th>split1_test_score</th>\n",
       "      <th>split2_test_score</th>\n",
       "      <th>split3_test_score</th>\n",
       "      <th>split4_test_score</th>\n",
       "      <th>mean_test_score</th>\n",
       "      <th>std_test_score</th>\n",
       "      <th>rank_test_score</th>\n",
       "    </tr>\n",
       "  </thead>\n",
       "  <tbody>\n",
       "    <tr>\n",
       "      <th>0</th>\n",
       "      <td>0.065631</td>\n",
       "      <td>0.084671</td>\n",
       "      <td>0.003125</td>\n",
       "      <td>0.006250</td>\n",
       "      <td>l2</td>\n",
       "      <td>newton-cg</td>\n",
       "      <td>{'penalty': 'l2', 'solver': 'newton-cg'}</td>\n",
       "      <td>0.795907</td>\n",
       "      <td>0.862194</td>\n",
       "      <td>0.878407</td>\n",
       "      <td>0.810176</td>\n",
       "      <td>0.741148</td>\n",
       "      <td>0.817566</td>\n",
       "      <td>0.049105</td>\n",
       "      <td>1</td>\n",
       "    </tr>\n",
       "    <tr>\n",
       "      <th>1</th>\n",
       "      <td>0.034378</td>\n",
       "      <td>0.061242</td>\n",
       "      <td>0.003126</td>\n",
       "      <td>0.006252</td>\n",
       "      <td>l2</td>\n",
       "      <td>lbfgs</td>\n",
       "      <td>{'penalty': 'l2', 'solver': 'lbfgs'}</td>\n",
       "      <td>0.795907</td>\n",
       "      <td>0.862194</td>\n",
       "      <td>0.878407</td>\n",
       "      <td>0.810176</td>\n",
       "      <td>0.741148</td>\n",
       "      <td>0.817566</td>\n",
       "      <td>0.049105</td>\n",
       "      <td>1</td>\n",
       "    </tr>\n",
       "    <tr>\n",
       "      <th>2</th>\n",
       "      <td>0.012500</td>\n",
       "      <td>0.024999</td>\n",
       "      <td>0.006251</td>\n",
       "      <td>0.007656</td>\n",
       "      <td>l2</td>\n",
       "      <td>liblinear</td>\n",
       "      <td>{'penalty': 'l2', 'solver': 'liblinear'}</td>\n",
       "      <td>0.795907</td>\n",
       "      <td>0.862194</td>\n",
       "      <td>0.878407</td>\n",
       "      <td>0.810176</td>\n",
       "      <td>0.741148</td>\n",
       "      <td>0.817566</td>\n",
       "      <td>0.049105</td>\n",
       "      <td>1</td>\n",
       "    </tr>\n",
       "    <tr>\n",
       "      <th>3</th>\n",
       "      <td>0.021877</td>\n",
       "      <td>0.012501</td>\n",
       "      <td>0.000000</td>\n",
       "      <td>0.000000</td>\n",
       "      <td>l2</td>\n",
       "      <td>saga</td>\n",
       "      <td>{'penalty': 'l2', 'solver': 'saga'}</td>\n",
       "      <td>0.795907</td>\n",
       "      <td>0.862194</td>\n",
       "      <td>0.878407</td>\n",
       "      <td>0.810176</td>\n",
       "      <td>0.741148</td>\n",
       "      <td>0.817566</td>\n",
       "      <td>0.049105</td>\n",
       "      <td>1</td>\n",
       "    </tr>\n",
       "  </tbody>\n",
       "</table>\n",
       "</div>"
      ],
      "text/plain": [
       "   mean_fit_time  std_fit_time  mean_score_time  std_score_time param_penalty  \\\n",
       "0       0.065631      0.084671         0.003125        0.006250            l2   \n",
       "1       0.034378      0.061242         0.003126        0.006252            l2   \n",
       "2       0.012500      0.024999         0.006251        0.007656            l2   \n",
       "3       0.021877      0.012501         0.000000        0.000000            l2   \n",
       "\n",
       "  param_solver                                    params  split0_test_score  \\\n",
       "0    newton-cg  {'penalty': 'l2', 'solver': 'newton-cg'}           0.795907   \n",
       "1        lbfgs      {'penalty': 'l2', 'solver': 'lbfgs'}           0.795907   \n",
       "2    liblinear  {'penalty': 'l2', 'solver': 'liblinear'}           0.795907   \n",
       "3         saga       {'penalty': 'l2', 'solver': 'saga'}           0.795907   \n",
       "\n",
       "   split1_test_score  split2_test_score  split3_test_score  split4_test_score  \\\n",
       "0           0.862194           0.878407           0.810176           0.741148   \n",
       "1           0.862194           0.878407           0.810176           0.741148   \n",
       "2           0.862194           0.878407           0.810176           0.741148   \n",
       "3           0.862194           0.878407           0.810176           0.741148   \n",
       "\n",
       "   mean_test_score  std_test_score  rank_test_score  \n",
       "0         0.817566        0.049105                1  \n",
       "1         0.817566        0.049105                1  \n",
       "2         0.817566        0.049105                1  \n",
       "3         0.817566        0.049105                1  "
      ]
     },
     "execution_count": 18,
     "metadata": {},
     "output_type": "execute_result"
    }
   ],
   "source": [
    "table"
   ]
  },
  {
   "cell_type": "code",
   "execution_count": 19,
   "id": "ade1b483",
   "metadata": {},
   "outputs": [
    {
     "name": "stdout",
     "output_type": "stream",
     "text": [
      "Decision_Making:0\n",
      "Digital_Marketing:0\n",
      "Editing:0\n",
      "Logistics_Management:0\n",
      "Oracle_Database:0\n",
      "Soccer:0\n",
      "Veteran:0\n",
      "Female:0\n"
     ]
    }
   ],
   "source": [
    "Decision_Making=float(input(\"Decision_Making:\"))\n",
    "Digital_Marketing=float(input(\"Digital_Marketing:\"))\n",
    "Editing=float(input(\"Editing:\"))\n",
    "Logistics_Management=float(input(\"Logistics_Management:\"))\n",
    "Oracle_Database=float(input(\"Oracle_Database:\"))\n",
    "Soccer=float(input(\"Soccer:\"))\n",
    "Veteran=float(input(\"Veteran:\"))\n",
    "Female=float(input(\"Female:\"))"
   ]
  },
  {
   "cell_type": "code",
   "execution_count": 20,
   "id": "fe66e438",
   "metadata": {},
   "outputs": [
    {
     "name": "stdout",
     "output_type": "stream",
     "text": [
      "Future_Prediction=[0.]\n"
     ]
    }
   ],
   "source": [
    "Future_Prediction=grid.predict([[Decision_Making, Digital_Marketing, Editing, Logistics_Management, Oracle_Database, Soccer, Veteran, Female]])\n",
    "print(\"Future_Prediction={}\".format(Future_Prediction))"
   ]
  }
 ],
 "metadata": {
  "kernelspec": {
   "display_name": "Python 3 (ipykernel)",
   "language": "python",
   "name": "python3"
  },
  "language_info": {
   "codemirror_mode": {
    "name": "ipython",
    "version": 3
   },
   "file_extension": ".py",
   "mimetype": "text/x-python",
   "name": "python",
   "nbconvert_exporter": "python",
   "pygments_lexer": "ipython3",
   "version": "3.9.12"
  }
 },
 "nbformat": 4,
 "nbformat_minor": 5
}
